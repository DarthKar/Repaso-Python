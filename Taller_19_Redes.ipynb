{
  "nbformat": 4,
  "nbformat_minor": 0,
  "metadata": {
    "colab": {
      "provenance": [],
      "toc_visible": true,
      "authorship_tag": "ABX9TyMadCCqIgyUr+mxgtPrQWyd",
      "include_colab_link": true
    },
    "kernelspec": {
      "name": "python3",
      "display_name": "Python 3"
    },
    "language_info": {
      "name": "python"
    }
  },
  "cells": [
    {
      "cell_type": "markdown",
      "metadata": {
        "id": "view-in-github",
        "colab_type": "text"
      },
      "source": [
        "<a href=\"https://colab.research.google.com/github/gabrielawad/talleresGoogleColab/blob/main/Taller_19_Redes.ipynb\" target=\"_parent\"><img src=\"https://colab.research.google.com/assets/colab-badge.svg\" alt=\"Open In Colab\"/></a>"
      ]
    },
    {
      "cell_type": "markdown",
      "source": [
        "## «*Los peces no ven el agua*».\n",
        "### [Hayashi Tadasu](https://es.wikipedia.org/wiki/Hayashi_Tadasu)"
      ],
      "metadata": {
        "id": "cbO3rYOOKwI5"
      }
    },
    {
      "cell_type": "markdown",
      "source": [
        "# Taller 19 redes\n",
        "\n",
        "En este taller se presenten los conceptos básicos relativos a la solución de problemas de redes con CVXPY.\n",
        "\n"
      ],
      "metadata": {
        "id": "r3QaewbQLmlI"
      }
    },
    {
      "metadata": {
        "id": "Etd4N1l8fsBg"
      },
      "cell_type": "markdown",
      "source": [
        "# Algunas características especiales de CVXPY (repaso)\n",
        "\n",
        "CVXPY contiene algunos métodos especiales que facilitan el trabajo con matrices.\n",
        "\n",
        "El método **sum** permite sumar los elementos de filas, columnas y de toda la matriz.\n",
        "\n",
        "El método **multiply** multiplica dos matrices, posición a posición"
      ]
    },
    {
      "metadata": {
        "id": "Mv-3v2QKf-QH"
      },
      "cell_type": "code",
      "source": [
        "# Importar las librerías que se van a utilizar\n",
        "import numpy as np\n",
        "import cvxpy as cvx\n",
        "from cvxopt import solvers\n",
        "\n",
        "# Definir el arreglo d con dimensión (3,4)\n",
        "d=cvx.Parameter((3,4))\n",
        "\n",
        "# Ingresar los valores de d. Cada corchete representa una columna\n",
        "d.value=[[0,1,2],[3,4,5],[6,7,8],[9,10,11]]\n",
        "\n",
        "# Mostrar el contenido de los valores de d\n",
        "print(\"Los valores contenidos en d son:\\n\", d.value,\"\\n\")\n",
        "\n",
        "# Mostrar la fila 0 de d\n",
        "print(\"Los valores contenidos en la fila 0 de d son:\\n\", d[0,:].value, \"\\n\")\n",
        "\n",
        "# Sumar los valores de una fila\n",
        "dfila0 = sum(d[0, :].value)\n",
        "\n",
        "# Mostrar la suma de los elementos de la fila\n",
        "print (\"La suma de los elementos de la fila 0 es:\", dfila0, \"\\n\")\n",
        "\n",
        "# Mostrar la columna 1 de d\n",
        "print(\"Los valores contenidos en la columna 1 de d son:\\n\", d[:,1].value, \"\\n\")\n",
        "\n",
        "# Sumar los valores de una columna\n",
        "dcol1 = sum(d[:, 1].value)\n",
        "\n",
        "# Mostrar la suma de los elementos de una columna\n",
        "print (\"La suma de los elementos de la columna 1 es:\", dcol1, \"\\n\")\n",
        "\n",
        "# Multiplicar el arreglo d por el arreglo d utilizando multiply equivale\n",
        "# a elevar al cuadrado cada una de las posiciones del arreglo d\n",
        "g = cvx.multiply (d,d)\n",
        "\n",
        "# Mostrar el contenido de los valores de g\n",
        "print(\"Los valores contenidos en g son:\\n\", g.value,\"\\n\")"
      ],
      "execution_count": null,
      "outputs": []
    },
    {
      "metadata": {
        "id": "ZRL1pBtOjVt2"
      },
      "cell_type": "markdown",
      "source": [
        "# El problema de asignación como un caso de redes\n",
        "\n",
        "A continuación se presenta un ejemplo del problema de asignación resuelto como si fuera un problemas de redes.\n",
        "\n",
        "En vez de una lista con nueve posiciones se va a utilizar una matriz de tres filas (origen = hijos) y tres columnas (destino = tareas)."
      ]
    },
    {
      "metadata": {
        "id": "RlN0pfIydYWL"
      },
      "cell_type": "markdown",
      "source": [
        "# Problema de asignación (caso trivial)\n",
        "\n",
        "Tres hermanos Jaime, Pipe y Linda, quieren ganar algún dinero para cubrir sus gastos de celular del mes actual.\n",
        "Su padre ha diseñado tres posibles tareas para ayudarle en este tema a sus hijos: lavar a mano los tenis, planchar las camisas de cuello y bañar los tres gatos. El padre le pidió a cada hijo que entregara un papel secreto donde se indicara el pago que cada hijo consideraría justo por cada una de las tareas. Los hermanos se comprometieron a aceptar la asignación de tareas que finalmente haga su padre.\n",
        "\n",
        "Las cotizaciones presentadas por los hijos fueron:\n",
        "* Jaime: 15 por lavar tenis, 10 por planchar camisas, 9 por bañar gatos\n",
        "* Pipe: 9 por lavar tenis, 15 por planchar camisas, 10 por bañar gatos\n",
        "* Linda: 10 por lavar tenis, 12 por planchar camisas, 8 por bañar gatos\n",
        "\n",
        "¿Qué tareas debería asignar el padre a cada hijo, con el fin de gastar lo menos posible?\n",
        "Tenga en cuenta que cada tarea puede ser asignada solamente una vez, y que cada hermano debe tener como mínimo una tarea por realizar.\n",
        "\n",
        "Los datos se pueden consultar en: [Asignacion-tareas-hogar](https://docs.google.com/spreadsheets/d/1ujsT41Jin8IJZM3GT1cfnj0WB2ORTQ0Nuyv87xyx_Ao/edit?usp=sharing)\n"
      ]
    },
    {
      "cell_type": "markdown",
      "source": [
        "## Solución 1"
      ],
      "metadata": {
        "id": "NeU2LpTXiHyp"
      }
    },
    {
      "cell_type": "code",
      "source": [
        "# Importar las librerías que se van a utilizar\n",
        "import numpy as np\n",
        "import cvxpy as cvx\n",
        "\n",
        "# Crear las variables a optimizar. Las filas corresponden a los hijos\n",
        "# y las columnas a las tareas\n",
        "x = cvx.Variable((3,3), boolean =True)\n",
        "\n",
        "# Crear el arreglo con los coeficientes de costos.\n",
        "# Cada corchete representa una columna, no una fila\n",
        "c=cvx.Parameter((3,3))\n",
        "c.value=[[15, 9, 10],[10, 15, 12],[9, 10, 8]]\n",
        "\n",
        "print (\"Los valores contenidos en c son:\\n\" , c.value, \"\\n\")\n",
        "\n",
        "nombres = [\"Jaime\", \"Pipe\", \"Linda\"]\n",
        "\n",
        "tareas =[\"lava tenis\", \"plancha camisas\", \"baña gatos\"]\n",
        "\n",
        "# Definir la función objetivo utilizando sum y multiply\n",
        "obj_00=cvx.Minimize(cvx.sum(cvx.multiply(c,x)))\n",
        "\n",
        "# Establecer las restricciones\n",
        "restricciones_00 = [\n",
        "    # Restricciones de Jaime\n",
        "    cvx.sum(x[0,:])==1,\n",
        "    # Restricciones de Pipe\n",
        "    cvx.sum(x[1,:])==1,\n",
        "    # Restricciones de Linda\n",
        "    cvx.sum(x[2,:])==1,\n",
        "    # Restricciones de lavar tenis\n",
        "    cvx.sum(x[:,0])==1,\n",
        "    # Restricciones de planchar camisas\n",
        "    cvx.sum(x[:,1])==1,\n",
        "    # Restricciones de bañar gatos\n",
        "    cvx.sum(x[:,2])==1\n",
        "]\n",
        "\n",
        "# Configurar el problema\n",
        "prob_00 = cvx.Problem(obj_00, restricciones_00)\n",
        "\n",
        "# Obtener el valor óptimo\n",
        "prob_00.solve()\n",
        "\n",
        "# Mostrar el estado de la solución y el valor óptimo de la función objetivo\n",
        "print(\"Estado de la solución:\", prob_00.status,\"\\n\"\n",
        "      + \"El costo total de las tareas será:\", \"%.0f\"% prob_00.value, \"\\n\")\n",
        "\n",
        "# Copiar los valores óptimos de las variables de decisión en un arreglo de NumPy\n",
        "newX = np.round(x.value)\n",
        "\n",
        "# Mostrar las asignaciones\n",
        "for i in range (0,3):\n",
        "    for j in range (0,3):\n",
        "        # Seleccionar los valores de la solución iguales a 1.\n",
        "        if newX[i,j]== 1:\n",
        "            # Mostrar nombre, tarea y costo\n",
        "            print(nombres[i], tareas[j], \"y cobra\", int(c[i,j].value), \"pesos.\")"
      ],
      "metadata": {
        "id": "MRlNBfcOiKvn"
      },
      "execution_count": null,
      "outputs": []
    },
    {
      "cell_type": "markdown",
      "source": [
        "## Solución 2"
      ],
      "metadata": {
        "id": "gwPK4dmM9QAW"
      }
    },
    {
      "cell_type": "markdown",
      "source": [
        "### Paso 0: importar las librerías"
      ],
      "metadata": {
        "id": "GZiS5hz9Pb5p"
      }
    },
    {
      "cell_type": "code",
      "source": [
        "# Importar las librerías que se van a utilizar\n",
        "import numpy as np\n",
        "import pandas as pd\n",
        "import cvxpy as cvx"
      ],
      "metadata": {
        "id": "yzybiubvPf1G"
      },
      "execution_count": null,
      "outputs": []
    },
    {
      "cell_type": "markdown",
      "source": [
        "### Paso 1: definir las variables\n",
        "\n",
        "Son nueve (9) variables booleanas, cada una de ellas representando la ejecución, o no, de una tarea por uno de los hermanos."
      ],
      "metadata": {
        "id": "L27BLjW2Punn"
      }
    },
    {
      "cell_type": "code",
      "source": [
        "# Crear las variables a optimizar. Las filas corresponden a los hermanos\n",
        "# y las columnas a las tareas\n",
        "asignaciones = cvx.Variable((3,3), boolean =True)"
      ],
      "metadata": {
        "id": "4YwE8OVrQB-M"
      },
      "execution_count": null,
      "outputs": []
    },
    {
      "cell_type": "markdown",
      "source": [
        "### Paso 2: crear los coeficientes de costos\n",
        "\n",
        "Los coeficientes de costos se pueden ver en el enlace: [coeficientes_costos](https://github.com/gabrielawad/talleresGoogleColab/blob/main/Archivo_datos/asignacion-tareas-hogar%20-%20coeficientes_costos.csv).\n",
        "\n",
        "Se va a utilizar el sistema [UTF-8](https://en.wikipedia.org/wiki/UTF-8#:~:text=UTF%2D8%20is%20the%20dominant,8%20encodings%20on%20the%20web.)."
      ],
      "metadata": {
        "id": "myOFZoRUQUPI"
      }
    },
    {
      "cell_type": "code",
      "source": [
        "# Establecer la ruta para acceder a los coeficientes de costos\n",
        "ruta_coef_costos = \"https://raw.githubusercontent.com/gabrielawad/\\\n",
        "TalleresGoogleColab/main/Archivo_datos/asignacion-tareas-hogar%20-\\\n",
        "%20coeficientes_costos.csv\"\n",
        "\n",
        "# Leer el contenido de la ruta\n",
        "datos_coef_costos = pd.read_csv(ruta_coef_costos, delimiter=',',\n",
        "                          index_col='nombres', encoding='utf-8')\n",
        "\n",
        "# Verificar la lectura del contenido de la ruta\n",
        "print(\"Los coeficientes de costos son: \\n\", datos_coef_costos, \"\\n\")\n",
        "\n",
        "# Crear arreglo de NumPy con los valores numéricos del DataFrame\n",
        "# print(\"El tipo de datos es:\",type(datos_coef_costos.values), \"\\n\")\n",
        "print(\"Valores numéricos de los coeficientes de costos: \\n\",\n",
        "      datos_coef_costos.values, \"\\n\")\n",
        "\n",
        "# Crear el arreglo con los coeficientes de costos en CVXPY\n",
        "coef_costos = cvx.Parameter((3,3))\n",
        "\n",
        "# Asignar los valores a los coeficientes de costos\n",
        "coef_costos.value = datos_coef_costos.values\n",
        "\n",
        "# Mostrar los valores de los coeficientes de costos en CVXPY\n",
        "print (\"Los valores de los coeficientes de costos en CVXPY son: \\n\",\n",
        "       coef_costos.value, \"\\n\")"
      ],
      "metadata": {
        "id": "5Isc4OvIVlTw"
      },
      "execution_count": null,
      "outputs": []
    },
    {
      "cell_type": "markdown",
      "source": [
        "### Paso 3: crear la función objetivo"
      ],
      "metadata": {
        "id": "ozQfOk9YV9fq"
      }
    },
    {
      "cell_type": "code",
      "source": [
        "# Definir la función objetivo utilizando sum y multiply\n",
        "obj_asignar_tareas=cvx.Minimize(cvx.sum(cvx.multiply(coef_costos,asignaciones)))"
      ],
      "metadata": {
        "id": "q0-C66fzWAOe"
      },
      "execution_count": null,
      "outputs": []
    },
    {
      "cell_type": "markdown",
      "source": [
        "### Paso 4: leer los coeficientes técnicos\n",
        "\n",
        "Los coeficientes técnicos se pueden ver en el siguiente enlace: [coeficientes_técnicos](https://github.com/gabrielawad/talleresGoogleColab/blob/main/Archivo_datos/asignacion-tareas-hogar%20-%20coeficientes_técnicos.csv)\n"
      ],
      "metadata": {
        "id": "HgVFImtSWWvv"
      }
    },
    {
      "cell_type": "code",
      "source": [
        "# Establecer la ruta para acceder a los coeficientes técnicos\n",
        "ruta_coef_tecnicos = \"https://raw.githubusercontent.com/gabrielawad/talleres\\\n",
        "GoogleColab/main/Archivo_datos/asignacion-tareas-hogar%20-\\\n",
        "%20coeficientes_t%C3%A9cnicos.csv\"\n",
        "\n",
        "# Leer el contenido de la ruta\n",
        "datos_coef_tecnicos = pd.read_csv(ruta_coef_tecnicos, delimiter=',',\n",
        "                            index_col='nombres', encoding='utf-8')\n",
        "\n",
        "# Verificar la lectura del contenido de la ruta\n",
        "print(\"Los coeficientes técnicos son: \\n\", datos_coef_tecnicos, \"\\n\")\n",
        "\n",
        "# Crear arreglo de NumPy con los valores numéricos del DataFrame\n",
        "# print(\"El tipo de datos es:\",type(datos_coef_tecnicos.values), \"\\n\")\n",
        "print(\"Valores numéricos de los coeficientes técnicos: \\n\",\n",
        "      datos_coef_tecnicos.values, \"\\n\")\n",
        "\n",
        "# Crear el arreglo los coeficientes técnicos en CVXPY\n",
        "coef_tecnicos = cvx.Parameter((3,3))\n",
        "\n",
        "# Asignar los valores a los coeficientes técnicos\n",
        "coef_tecnicos.value = datos_coef_tecnicos.values\n",
        "\n",
        "# Mostrar los valores de los coeficientes tecnicos en CVXPY\n",
        "print (\"Los valores de los coeficientes técnicos en CVXPY son: \\n\",\n",
        "       coef_tecnicos.value, \"\\n\")"
      ],
      "metadata": {
        "id": "U2VrIJEGW4ws"
      },
      "execution_count": null,
      "outputs": []
    },
    {
      "cell_type": "markdown",
      "source": [
        "### Paso 5: leer las restricciones\n",
        "\n",
        "Las restricciones se pueden ver en el siguiente enlace: [restricciones](https://github.com/gabrielawad/talleresGoogleColab/blob/main/Archivo_datos/asignacion-tareas-hogar%20-%20restricciones.csv)"
      ],
      "metadata": {
        "id": "UGgCiMGeXxNI"
      }
    },
    {
      "cell_type": "code",
      "source": [
        "# Establecer la ruta para acceder a los coeficientes técnicos\n",
        "ruta_restricciones = \"https://raw.githubusercontent.com/gabrielawad/talleres\\\n",
        "GoogleColab/main/Archivo_datos/asignacion-tareas-hogar%20-%20restricciones.csv\"\n",
        "\n",
        "# Leer el contenido de la ruta\n",
        "datos_restricciones = pd.read_csv(ruta_restricciones, delimiter=',',\n",
        "                            index_col='restricciones', encoding='utf-8')\n",
        "\n",
        "# Verificar la lectura del contenido de la ruta\n",
        "print(\"Las restricciones son: \\n\", datos_restricciones, \"\\n\")\n",
        "\n",
        "# Crear arreglo de NumPy con los valores numéricos del DataFrame\n",
        "# print(\"El tipo de datos es:\",type(datos_restricciones.values), \"\\n\")\n",
        "print(\"Valores numéricos de las restricciones: \\n\", datos_restricciones.values)\n",
        "\n",
        "# Crear el arreglo de restricciones en CVXPY\n",
        "restricciones = cvx.Parameter((6,1))\n",
        "\n",
        "# Asignar los valores a las restricciones\n",
        "restricciones.value = datos_restricciones.values\n",
        "\n",
        "# Mostrar los valores de las restricciones en CVXPY\n",
        "print (\"Los valores de las restricciones en CVXPY son: \\n\",\n",
        "       restricciones.value, \"\\n\")"
      ],
      "metadata": {
        "id": "pkdm4Gc7X84k"
      },
      "execution_count": null,
      "outputs": []
    },
    {
      "cell_type": "markdown",
      "source": [
        "### Paso 6: Establecer las ecuaciones y las inecuaciones que contienen las restricciones\n",
        "\n",
        "Dadas las características de este ejercicio todas las restricciones son ecuaciones. Se debe asignar una tarea a cada persona y cada tarea debe tener un persona asignada."
      ],
      "metadata": {
        "id": "ZvtGudrVYt19"
      }
    },
    {
      "cell_type": "code",
      "source": [
        "# Crear las restricciones\n",
        "rest_asignar_tareas = [\n",
        "  # Restricciones de Jaime\n",
        "  cvx.sum(cvx.multiply(coef_tecnicos[0,:],asignaciones[0,:]))==restricciones[0],\n",
        "\n",
        "  # Restricciones de Pipe\n",
        "  cvx.sum(cvx.multiply(coef_tecnicos[1,:],asignaciones[1,:]))==restricciones[1],\n",
        "\n",
        "  # Restricciones de Linda\n",
        "  cvx.sum(cvx.multiply(coef_tecnicos[2,:],asignaciones[2,:]))==restricciones[2],\n",
        "\n",
        "  # Restricciones de lavar tenis\n",
        "  cvx.sum(cvx.multiply(coef_tecnicos[:,0],asignaciones[:,0]))==restricciones[3],\n",
        "\n",
        "  # Restricciones de planchar camisas\n",
        "  cvx.sum(cvx.multiply(coef_tecnicos[:,1],asignaciones[:,1]))==restricciones[4],\n",
        "\n",
        "  # Restricciones de bañar gatos\n",
        "  cvx.sum(cvx.multiply(coef_tecnicos[:,2],asignaciones[:,2]))==restricciones[5]\n",
        "]"
      ],
      "metadata": {
        "id": "hx4rLWYQZH47"
      },
      "execution_count": null,
      "outputs": []
    },
    {
      "cell_type": "markdown",
      "source": [
        "### Paso 7: estructurar el problema y resolver"
      ],
      "metadata": {
        "id": "YkWT1TR2cOas"
      }
    },
    {
      "cell_type": "code",
      "source": [
        "# Configurar el problema\n",
        "prob_asignar_tareas = cvx.Problem(obj_asignar_tareas, rest_asignar_tareas)\n",
        "\n",
        "# Obtener el valor óptimo\n",
        "prob_asignar_tareas.solve()\n",
        "\n",
        "# Mostrar el estado de la solución y el valor óptimo de la función objetivo\n",
        "print(\"Estado de la solución:\", prob_asignar_tareas.status,\"\\n\")"
      ],
      "metadata": {
        "id": "fPx00sarcS8l"
      },
      "execution_count": null,
      "outputs": []
    },
    {
      "cell_type": "markdown",
      "source": [
        "### Paso 8: mostrar resultados"
      ],
      "metadata": {
        "id": "c7wIirgTgeXN"
      }
    },
    {
      "cell_type": "code",
      "source": [
        "# Mostrar el valor óptimo de la función objetivo\n",
        "print(\"El costo total de las tareas es: \", int(prob_asignar_tareas.value), \"\\n\")\n",
        "\n",
        "# Mostrar las asignaciones en CVXPY\n",
        "print(\"Asignaciones en CVXPY: \\n\", asignaciones.value, \"\\n\")\n",
        "\n",
        "# Crear un DataFrame para mostrar las asignaciones\n",
        "df_asignaciones = pd.DataFrame(asignaciones.value,\n",
        "                               index=datos_coef_costos.index,\n",
        "                               columns=datos_coef_costos.columns,\n",
        "                               dtype=np.int64)\n",
        "\n",
        "# Mostrar las asignaciones\n",
        "print(\"Estas son las asignaciones:\\n\", df_asignaciones, \"\\n\")\n",
        "\n",
        "# Copiar los valores óptimos de las variables de decisión en un arreglo de NumPy\n",
        "asignaciones_np = np.round(asignaciones.value)\n",
        "\n",
        "# Copiar los coeficientes de costos en un arreglo de NumPy\n",
        "coef_costos_np = np.round(coef_costos.value)\n",
        "\n",
        "# Calcular los costos de las asignaciones\n",
        "costos_asignaciones_np = np.multiply(coef_costos_np, asignaciones_np)\n",
        "\n",
        "# Mostrar los costos de las asignaciones\n",
        "print(\"Estos son los costos de las asignaciones: \\n\",\n",
        "      costos_asignaciones_np, \"\\n\")\n",
        "\n",
        "# Crear un DataFrame para mostrar los costos de las asignaciones\n",
        "df_costo_asignaciones = pd.DataFrame(costos_asignaciones_np,\n",
        "                               index=datos_coef_costos.index,\n",
        "                               columns=datos_coef_costos.columns,\n",
        "                               dtype=np.int64)\n",
        "\n",
        "# Mostrar los costos de las asignaciones\n",
        "print(\"Estas son los costos de las asignaciones:\\n\",\n",
        "      df_costo_asignaciones, \"\\n\")"
      ],
      "metadata": {
        "id": "VqmC_NIggi2q"
      },
      "execution_count": null,
      "outputs": []
    },
    {
      "cell_type": "markdown",
      "source": [
        "### Paso 9: análisis de holguras"
      ],
      "metadata": {
        "id": "kPF6RlsP5Gpm"
      }
    },
    {
      "cell_type": "code",
      "source": [
        "# Crear un DataFrame para mostrar las holguras de las restricciones\n",
        "analisis_holguras = datos_restricciones.copy()\n",
        "\n",
        "# Mostrar el estado inicial del DataFrame con las holguras de las restricciones\n",
        "print(\"Estas son las restricciones:\\n\", analisis_holguras, \"\\n\")\n",
        "\n",
        "# Cambiar el nombre de la columa \"valores\" por \"restricciones\"\n",
        "analisis_holguras.rename(columns={\"valores\": \"restricciones\"}, inplace=True)\n",
        "\n",
        "# Calcular el estado de las restricciones en la solución\n",
        "# Calcular las restricciones de los hermanos\n",
        "optimo_restricciones_hnos = np.sum(np.multiply(\n",
        "    datos_coef_tecnicos.values, asignaciones_np),dtype=np.int64, axis=1)\n",
        "\n",
        "# Calcular las restricciones de los tareas\n",
        "optimo_restricciones_tareas = np.sum(np.multiply(\n",
        "    datos_coef_tecnicos.values, asignaciones_np), dtype=np.int64, axis=0)\n",
        "\n",
        "# Unir las restricciones\n",
        "optimos =np.concatenate((optimo_restricciones_hnos, optimo_restricciones_tareas))\n",
        "\n",
        "# Agregar columna con los valores de las restricciones en el punto óptimo\n",
        "analisis_holguras[\"óptimos\"] = optimos\n",
        "\n",
        "# Agregar columna con la diferencia entre las restricciones\n",
        "# y las restricciones en el punto óptimo\n",
        "analisis_holguras[\"diferencias\"] = analisis_holguras[\"restricciones\"] \\\n",
        "- analisis_holguras[\"óptimos\"]\n",
        "\n",
        "# Mostrar el analisis de las holguras de las restricciones\n",
        "print(\"Estas son las holguras de las restricciones:\\n\", analisis_holguras, \"\\n\")"
      ],
      "metadata": {
        "id": "SSMzg3SC5LuM"
      },
      "execution_count": null,
      "outputs": []
    },
    {
      "cell_type": "markdown",
      "source": [
        "# Ejercicios\n",
        "\n",
        "Resuelva los tres ejercicios propuestos en el [Taller 08 redes con CVXPY](https://docs.google.com/document/d/1LRwRtOQ-KvHs2PLULHZrhTdih37zvrb0p9cUjSXiwVM/edit?usp=sharing)."
      ],
      "metadata": {
        "id": "Rky3YFf7pkYl"
      }
    },
    {
      "cell_type": "markdown",
      "source": [
        "## Distribución de producción"
      ],
      "metadata": {
        "id": "9hinwl3ip0dt"
      }
    },
    {
      "cell_type": "code",
      "source": [],
      "metadata": {
        "id": "8zVM_lLAp8Ik"
      },
      "execution_count": null,
      "outputs": []
    },
    {
      "cell_type": "markdown",
      "source": [
        "## Minimizar tiempo de ejecución"
      ],
      "metadata": {
        "id": "Z_4FZMjWp9HO"
      }
    },
    {
      "cell_type": "code",
      "source": [],
      "metadata": {
        "id": "Wh3031MZqDEc"
      },
      "execution_count": null,
      "outputs": []
    },
    {
      "cell_type": "markdown",
      "source": [
        "## Empleados de un call center"
      ],
      "metadata": {
        "id": "5eNr4kZaqF1_"
      }
    },
    {
      "cell_type": "code",
      "source": [],
      "metadata": {
        "id": "HC1_IMb1qLvc"
      },
      "execution_count": null,
      "outputs": []
    }
  ]
}