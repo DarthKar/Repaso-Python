{
  "nbformat": 4,
  "nbformat_minor": 0,
  "metadata": {
    "colab": {
      "provenance": [],
      "toc_visible": true,
      "authorship_tag": "ABX9TyO7m+7hGugw3kthb1EC2Ibz",
      "include_colab_link": true
    },
    "kernelspec": {
      "name": "python3",
      "display_name": "Python 3"
    },
    "language_info": {
      "name": "python"
    }
  },
  "cells": [
    {
      "cell_type": "markdown",
      "metadata": {
        "id": "view-in-github",
        "colab_type": "text"
      },
      "source": [
        "<a href=\"https://colab.research.google.com/github/gabrielawad/talleresGoogleColab/blob/main/Taller_18_Optimizacion_archivos_grandes.ipynb\" target=\"_parent\"><img src=\"https://colab.research.google.com/assets/colab-badge.svg\" alt=\"Open In Colab\"/></a>"
      ]
    },
    {
      "cell_type": "markdown",
      "source": [
        "## «*En todas las épocas hay personas que no piensan como los demás. Es decir, que no piensan como los que no piensan*».\n",
        "### [Marguerite Yourcenar](https://es.wikipedia.org/wiki/Marguerite_Yourcenar)"
      ],
      "metadata": {
        "id": "ArWJsV9JkRCh"
      }
    },
    {
      "metadata": {
        "id": "zgjocYYq8zTI"
      },
      "cell_type": "markdown",
      "source": [
        "# Taller 18 Optimización a partir de información contenida en archivos\n",
        "\n",
        "En este taller aprenderá a resolver ejercicios de optimización a partir de información contenida en archivos.\n",
        "\n",
        "Se utilizará el archivo \"[saber11_20162.csv](https://drive.google.com/open?id=1zYtDTFEYHve8jVPU-JLL_PNBrNVkvkWOD9TYdv6JVPI)\", de dimensión 12.212 filas x 20 columnas, que contiene la información relativa a los resultados obtenidos por los estudiantes que presentaron las pruebas Saber 11 en el período 2016-2, agrupados por instituciones."
      ]
    },
    {
      "cell_type": "markdown",
      "source": [
        "## Algunas métodos especiales de CVXPY\n",
        "\n",
        "CVXPY contiene algunos métodos especiales que facilitan el trabajo con matrices.\n",
        "\n",
        "El método **sum** permite sumar los elementos de filas, columnas y de toda la matriz.\n",
        "\n",
        "El método **multiply** multiplica dos matrices, posición a posición"
      ],
      "metadata": {
        "id": "QmrMNp3FylFd"
      }
    },
    {
      "metadata": {
        "id": "iF2LyZeFHHLy"
      },
      "cell_type": "markdown",
      "source": [
        "# Problema a resolver\n",
        "\n",
        "El gobierno nacional desea invertir dos mil millones de pesos en instituciones de educación media oficiales, con jornada en la mañana, de las ciudades de Cali, Bogotá, Bucaramanga y Medellín.\n",
        "\n",
        "Por razones de equidad regional en cada una de dichas ciudades se apoyará al menos tres y máximo ocho instituciones educativas, asignando a cada una un auxilio adicional de 100 millones de pesos.\n",
        "\n",
        "El objetivo del gobierno es maximizar la cobertura (número de estudiantes beneficiados con la inversión).\n",
        "\n",
        "Resuelva el problema a partir de la información que se encuentra en el archivo \"[saber11_20162.csv\"](https://drive.google.com/open?id=1zYtDTFEYHve8jVPU-JLL_PNBrNVkvkWOD9TYdv6JVPI). Indique el total de estudiantes y de instituciones beneficiados tanto a nivel global como en cada una de las ciudades. Además, muestre el listado de instituciones beneficiadas junto con su ubicación y su número de estudiantes."
      ]
    },
    {
      "metadata": {
        "id": "ziAADyLztPE3"
      },
      "cell_type": "markdown",
      "source": [
        "## Paso 0: importar las librerías requeridas"
      ]
    },
    {
      "metadata": {
        "id": "FGtS11Ybs4at"
      },
      "cell_type": "code",
      "source": [
        "# Importar las librerías requeridas\n",
        "import numpy as np\n",
        "import pandas as pd\n",
        "import cvxpy as cvx"
      ],
      "execution_count": 19,
      "outputs": []
    },
    {
      "metadata": {
        "id": "317ASycIHZdr"
      },
      "cell_type": "markdown",
      "source": [
        "## Paso 1: obtener datos\n",
        "\n",
        "Leer los datos del archivo y verificar que hayan sido adecuadamente guardados en un objeto de pandas."
      ]
    },
    {
      "cell_type": "markdown",
      "source": [
        "### Paso 1a: leer los datos desde una url"
      ],
      "metadata": {
        "id": "JCLd8IsjwjZj"
      }
    },
    {
      "cell_type": "code",
      "source": [
        "ruta_datos =\"https://docs.google.com/spreadsheets/d/e/2PACX-1vRoRK2nnpDGxo\\\n",
        "Zc8ZQ8H_8Uqj8U3Fb4jfETZ2cMRe2GbCnHVDzgtz6ogNgxfuuWpl8NmTp2aCZQ3hiR/\\\n",
        "pub?output=csv\"\n",
        "\n",
        "datosSaber11 = pd.read_csv(ruta_datos, sep=';', decimal=',')\n",
        "#datosSaber11 = pd.read_csv(ruta_datos)\n",
        "\n",
        "# Las siguientes instrucciones permiten verificar que el archivo fue\n",
        "#adecuadamente leído y que los datos se encuentran disponibles\n",
        "print (\"Los tipos de datos contenidos en las columnas de datosSaber11 son:\\n\",\n",
        "       datosSaber11.dtypes, \"\\n\")\n",
        "print (\"Los índices de las filas de datosSaber11 son:\\n\", datosSaber11.index,\n",
        "       \"\\n\")\n",
        "print (\"Los índices de las columnas de datosSaber11 son:\\n\",\n",
        "       datosSaber11.columns, \"\\n\")\n",
        "print (\"Los estadísticos de las variables numéricas de datosSaber11 son:\\n\",\n",
        "       datosSaber11.describe(), \"\\n\")"
      ],
      "metadata": {
        "id": "n5wr4s8Cvy3q",
        "colab": {
          "base_uri": "https://localhost:8080/"
        },
        "outputId": "bb16372e-6fec-4af9-8b8e-2f9bba0505df"
      },
      "execution_count": 20,
      "outputs": [
        {
          "output_type": "stream",
          "name": "stdout",
          "text": [
            "Los tipos de datos contenidos en las columnas de datosSaber11 son:\n",
            " CODINST                     object\n",
            "NOMBREINSTITUCION           object\n",
            "CODIGOMUNICIPIO            float64\n",
            "NOMBREMUNICIPIO             object\n",
            "DEPARTAMENTO                object\n",
            "CALENDARIO                  object\n",
            "NATURALEZA                  object\n",
            "JORNADA                     object\n",
            "EVALUADOS                  float64\n",
            "PROMLECTURACRITICA         float64\n",
            "PROMMATEMATICA              object\n",
            "PROMSOCIALESYCIUDADANAS    float64\n",
            "PROMCIENCIASNATURALES      float64\n",
            "PROMINGLES                 float64\n",
            "DESVLECTURACRITICA         float64\n",
            "DESVMATEMATICA             float64\n",
            "DESVSOCIALESYCIUDADANAS    float64\n",
            "DESVCIENCIASNATURALES      float64\n",
            "DESVINGLES                 float64\n",
            "PERIODO,,,,,,,,,,,,         object\n",
            "dtype: object \n",
            "\n",
            "Los índices de las filas de datosSaber11 son:\n",
            " RangeIndex(start=0, stop=12212, step=1) \n",
            "\n",
            "Los índices de las columnas de datosSaber11 son:\n",
            " Index(['CODINST', 'NOMBREINSTITUCION', 'CODIGOMUNICIPIO', 'NOMBREMUNICIPIO',\n",
            "       'DEPARTAMENTO', 'CALENDARIO', 'NATURALEZA', 'JORNADA', 'EVALUADOS',\n",
            "       'PROMLECTURACRITICA', 'PROMMATEMATICA', 'PROMSOCIALESYCIUDADANAS',\n",
            "       'PROMCIENCIASNATURALES', 'PROMINGLES', 'DESVLECTURACRITICA',\n",
            "       'DESVMATEMATICA', 'DESVSOCIALESYCIUDADANAS', 'DESVCIENCIASNATURALES',\n",
            "       'DESVINGLES', 'PERIODO,,,,,,,,,,,,'],\n",
            "      dtype='object') \n",
            "\n",
            "Los estadísticos de las variables numéricas de datosSaber11 son:\n",
            "        CODIGOMUNICIPIO     EVALUADOS  PROMLECTURACRITICA  \\\n",
            "count     12212.000000  12212.000000        12212.000000   \n",
            "mean      35135.828018     45.222077           51.242991   \n",
            "std       26702.994002     43.115472            6.120841   \n",
            "min          39.000000      1.000000            0.000000   \n",
            "25%       11001.000000     17.000000           47.027500   \n",
            "50%       25151.000000     32.000000           51.090000   \n",
            "75%       63401.000000     60.000000           55.000000   \n",
            "max       99773.000000    968.000000           73.480000   \n",
            "\n",
            "       PROMSOCIALESYCIUDADANAS  PROMCIENCIASNATURALES    PROMINGLES  \\\n",
            "count             12196.000000           12196.000000  12196.000000   \n",
            "mean                 49.227555              51.435863     50.588682   \n",
            "std                   6.644996               6.227797      7.814510   \n",
            "min                   0.000000               0.000000      0.000000   \n",
            "25%                  44.450000              47.130000     45.070000   \n",
            "50%                  48.800000              51.340000     49.180000   \n",
            "75%                  53.180000              55.290000     54.240000   \n",
            "max                  77.500000              77.800000     87.420000   \n",
            "\n",
            "       DESVLECTURACRITICA  DESVMATEMATICA  DESVSOCIALESYCIUDADANAS  \\\n",
            "count        12196.000000    12196.000000             12196.000000   \n",
            "mean             7.703307        8.934647                 8.452726   \n",
            "std              1.543460        1.760489                 1.687415   \n",
            "min              0.000000        0.000000                 0.000000   \n",
            "25%              6.970000        8.070000                 7.630000   \n",
            "50%              7.770000        9.010000                 8.560000   \n",
            "75%              8.510000        9.890000                 9.390000   \n",
            "max             26.630000       27.640000                28.060000   \n",
            "\n",
            "       DESVCIENCIASNATURALES    DESVINGLES  \n",
            "count           12196.000000  12196.000000  \n",
            "mean                7.387019      8.433585  \n",
            "std                 1.515600      2.115094  \n",
            "min                 0.000000      0.000000  \n",
            "25%                 6.620000      7.180000  \n",
            "50%                 7.450000      8.400000  \n",
            "75%                 8.210000      9.590000  \n",
            "max                26.420000     29.700000   \n",
            "\n"
          ]
        }
      ]
    },
    {
      "cell_type": "markdown",
      "source": [
        "### Paso 1b: leer los datos desde un archivo subido al Notebook\n",
        "\n",
        "**Recuerde subir el archivo \"saber11_20162.csv\" al espacio de trabajo de Colaboratory**"
      ],
      "metadata": {
        "id": "MRkBihV3wx-B"
      }
    },
    {
      "metadata": {
        "id": "sLM5zlE0HKkV"
      },
      "cell_type": "code",
      "source": [
        "# Leer la información del archivo y cargarla en un DataFrame\n",
        "datosSaber11 = pd.read_csv('saber11_20162.csv', sep=';', decimal=',')\n",
        "\n",
        "# Las siguientes instrucciones permiten verificar que el archivo fue\n",
        "#adecuadamente leído y que los datos se encuentran disponibles\n",
        "print (\"Los tipos de datos contenidos en las columnas de datosSaber11 son:\\n\",\n",
        "       datosSaber11.dtypes, \"\\n\")\n",
        "print (\"Los índices de las filas de datosSaber11 son:\\n\", datosSaber11.index,\n",
        "       \"\\n\")\n",
        "print (\"Los índices de las columnas de datosSaber11 son:\\n\",\n",
        "       datosSaber11.columns, \"\\n\")\n",
        "print (\"Los estadísticos de las variables numéricas de datosSaber11 son:\\n\",\n",
        "       datosSaber11.describe(), \"\\n\")"
      ],
      "execution_count": null,
      "outputs": []
    },
    {
      "metadata": {
        "id": "ZSCxBdzLJwgA"
      },
      "cell_type": "markdown",
      "source": [
        "## Paso 2:  depurar datos\n",
        "\n",
        "Seleccionar los datos que se requieren para resolver el ejercicio.\n",
        "\n",
        "Al terminar este paso, el archivo tendrá 541 filas y 11 columnas. Cinco de las columnas serán construidas y agregadas en este paso."
      ]
    },
    {
      "metadata": {
        "id": "EQfT43iIHKkV",
        "colab": {
          "base_uri": "https://localhost:8080/"
        },
        "outputId": "bfc38498-a157-4f2d-cad4-4ae1cebb706d"
      },
      "cell_type": "code",
      "source": [
        "# Seleccionar los colegios oficiales\n",
        "datosSaber11_v1 =datosSaber11[datosSaber11.NATURALEZA == 'OFICIAL']\n",
        "\n",
        "# Seleccionar los colegios oficiales con jornada únicamente en la mañana\n",
        "# observe que al subir el contenido del archivo a Google Colaboratory \"MAÑANA\"\n",
        "# se convirtió en \"MANANA\"\n",
        "datosSaber11_v2 =datosSaber11_v1[datosSaber11_v1.JORNADA == 'MANANA']\n",
        "\n",
        "# Seleccionar las columnas requeridas para resolver el ejercicio\n",
        "datosSaber11_v3 = datosSaber11_v2.loc[:,['NOMBREINSTITUCION','CODIGOMUNICIPIO',\n",
        "                                         'NOMBREMUNICIPIO','NATURALEZA',\n",
        "                                         'JORNADA','EVALUADOS',]]\n",
        "\n",
        "# Convertir el código del municipio en una string\n",
        "datosSaber11_v3['CODIGOMUNICIPIO'] = datosSaber11_v3['CODIGOMUNICIPIO']\\\n",
        ".astype(str)\n",
        "\n",
        "# Crear etiquetas para las nuevas columnas requeridas\n",
        "nombres = {\"Medellín\": \"5001\", \"Bogotá\":\"11001\" , \"Cali\": \"76001\",\n",
        "           \"Bucaramanga\": \"68001\", \"Activos\":\"0\"}\n",
        "\n",
        "# Agregar las columnas requeridas con todos sus valores iguales a cero\n",
        "for i in nombres:\n",
        "    datosSaber11_v3[i] = 0\n",
        "\n",
        "# Modificar el contenido de las nuevas columnas según el municipio\n",
        "# al que pertenezcan\n",
        "datosSaber11_v3.loc[datosSaber11_v2.CODIGOMUNICIPIO == 5001,'Medellín'] = 1.0\n",
        "datosSaber11_v3.loc[datosSaber11_v2.CODIGOMUNICIPIO == 76001,'Cali'] = 1.0\n",
        "datosSaber11_v3.loc[datosSaber11_v2.CODIGOMUNICIPIO == 68001,'Bucaramanga'] = 1.0\n",
        "datosSaber11_v3.loc[datosSaber11_v2.CODIGOMUNICIPIO == 11001,'Bogotá'] = 1.0\n",
        "\n",
        "# Identificar los municipios que interesan para resolver el problema\n",
        "datosSaber11_v3['Activos'] = (datosSaber11_v3['Medellín']\n",
        "                              + datosSaber11_v3['Cali']\n",
        "                              + datosSaber11_v3['Bucaramanga']\n",
        "                              + datosSaber11_v3['Bogotá'])\n",
        "\n",
        "# Dejar en el objeto únicamente los datos de los municipios de interés\n",
        "datosSaber11_v4 = datosSaber11_v3[datosSaber11_v3.Activos ==1]\n",
        "\n",
        "# Las siguientes instrucciones permiten verificar cómo quedó el archivo\n",
        "# transformado\n",
        "print (\"Los tipos de datos contenidos en las columnas de datosSaber11_v4 son:\\n\",\n",
        "       datosSaber11_v4.dtypes, \"\\n\")\n",
        "print (\"Los índices de las filas de datosSaber11_v4 son:\\n\",\n",
        "       datosSaber11_v4.index, \"\\n\")\n",
        "print (\"Los índices de las columnas de datosSaber11_v4 son:\\n\",\n",
        "       datosSaber11_v4.columns, \"\\n\")\n",
        "print (\"Los estadísticos de las variables numéricas de datosSaber11_v4 son:\\n\",\n",
        "       datosSaber11_v4.describe(), \"\\n\")"
      ],
      "execution_count": 21,
      "outputs": [
        {
          "output_type": "stream",
          "name": "stdout",
          "text": [
            "Los tipos de datos contenidos en las columnas de datosSaber11_v4 son:\n",
            " NOMBREINSTITUCION     object\n",
            "CODIGOMUNICIPIO       object\n",
            "NOMBREMUNICIPIO       object\n",
            "NATURALEZA            object\n",
            "JORNADA               object\n",
            "EVALUADOS            float64\n",
            "Medellín               int64\n",
            "Bogotá                 int64\n",
            "Cali                   int64\n",
            "Bucaramanga            int64\n",
            "Activos                int64\n",
            "dtype: object \n",
            "\n",
            "Los índices de las filas de datosSaber11_v4 son:\n",
            " Int64Index([    0,     1,    35,    36,    38,    44,    45,    46,    48,\n",
            "               49,\n",
            "            ...\n",
            "            12101, 12102, 12119, 12131, 12137, 12138, 12149, 12151, 12155,\n",
            "            12158],\n",
            "           dtype='int64', length=541) \n",
            "\n",
            "Los índices de las columnas de datosSaber11_v4 son:\n",
            " Index(['NOMBREINSTITUCION', 'CODIGOMUNICIPIO', 'NOMBREMUNICIPIO', 'NATURALEZA',\n",
            "       'JORNADA', 'EVALUADOS', 'Medellín', 'Bogotá', 'Cali', 'Bucaramanga',\n",
            "       'Activos'],\n",
            "      dtype='object') \n",
            "\n",
            "Los estadísticos de las variables numéricas de datosSaber11_v4 son:\n",
            "         EVALUADOS    Medellín      Bogotá        Cali  Bucaramanga  Activos\n",
            "count  541.000000  541.000000  541.000000  541.000000   541.000000    541.0\n",
            "mean    84.889094    0.245841    0.537893    0.147874     0.068392      1.0\n",
            "std     71.681928    0.430983    0.499023    0.355304     0.252651      0.0\n",
            "min      6.000000    0.000000    0.000000    0.000000     0.000000      1.0\n",
            "25%     47.000000    0.000000    0.000000    0.000000     0.000000      1.0\n",
            "50%     71.000000    0.000000    1.000000    0.000000     0.000000      1.0\n",
            "75%    103.000000    0.000000    1.000000    0.000000     0.000000      1.0\n",
            "max    968.000000    1.000000    1.000000    1.000000     1.000000      1.0 \n",
            "\n"
          ]
        }
      ]
    },
    {
      "metadata": {
        "id": "DP65WR-V8zTX"
      },
      "cell_type": "markdown",
      "source": [
        "Después de las transformaciones realizadas, la información contenida en las columnas del objeto de Pandas (DataFrame) 'datosSaber11_v4' es:\n",
        "\n",
        "\n",
        "Columna\n",
        "* 0: 'NOMBREINSTITUCION'\n",
        "* 1: 'CODIGOMUNICIPIO'\n",
        "* 2: 'NOMBREMUNICIPIO'\n",
        "* 3: 'NATURALEZA'\n",
        "* 4: 'JORNADA'\n",
        "* 5: 'EVALUADOS'\n",
        "* 6: 'Cali'\n",
        "* 7: 'Bucaramanga'\n",
        "* 8: 'Bogotá'\n",
        "* 9: 'Medellín'\n",
        "* 10: 'Activos'"
      ]
    },
    {
      "metadata": {
        "id": "In7CCKtPQ3P2"
      },
      "cell_type": "markdown",
      "source": [
        "## Paso 3: convertir los objetos de pandas en objetos de NumPy\n",
        "\n",
        "En este paso se crean objetos de NumPy, a partir de objetos de pandas, para ser utilizados luego en CVXPY-"
      ]
    },
    {
      "metadata": {
        "id": "gJdmS02e8zTI",
        "colab": {
          "base_uri": "https://localhost:8080/"
        },
        "outputId": "cff451e4-c0b4-432a-dce3-5e1da2f912d6"
      },
      "cell_type": "code",
      "source": [
        "# Coeficiente de costos: estudiantes\n",
        "estudiantes = np.array(datosSaber11_v4[ 'EVALUADOS'])\n",
        "print (\"El total de estudiantes es: \", int(np.sum(estudiantes)), \"\\n\")\n",
        "\n",
        "# Coeficientes tecnológicos: instituciones por ciudad\n",
        "cal = np.array(datosSaber11_v4['Cali'])\n",
        "bog = np.array(datosSaber11_v4['Bogotá'])\n",
        "buc = np.array(datosSaber11_v4['Bucaramanga'])\n",
        "med = np.array(datosSaber11_v4['Medellín'])\n",
        "\n",
        "# Verificar que los objetos de NumPy quedaron adecuadamente creados\n",
        "TotCal=np.sum(cal)\n",
        "print (\"El total de establecimientos de Cali es: \", TotCal, \"\\n\")\n",
        "\n",
        "TotBog = np.sum(bog)\n",
        "print (\"El total de establecimientos de Bogotá es: \", TotBog, \"\\n\")\n",
        "\n",
        "TotBuc=np.sum(buc)\n",
        "print (\"El total de establecimientos de Bucaramanga es: \", TotBuc, \"\\n\")\n",
        "\n",
        "TotMed=np.sum(med)\n",
        "print (\"El total de establecimientos de Medellín es: \", TotMed, \"\\n\")\n",
        "\n",
        "Total = TotCal + TotBog + TotBuc + TotMed\n",
        "print (\"El total de establecimientos es: \", Total, \"\\n\")"
      ],
      "execution_count": 22,
      "outputs": [
        {
          "output_type": "stream",
          "name": "stdout",
          "text": [
            "El total de estudiantes es:  45925 \n",
            "\n",
            "El total de establecimientos de Cali es:  80 \n",
            "\n",
            "El total de establecimientos de Bogotá es:  291 \n",
            "\n",
            "El total de establecimientos de Bucaramanga es:  37 \n",
            "\n",
            "El total de establecimientos de Medellín es:  133 \n",
            "\n",
            "El total de establecimientos es:  541 \n",
            "\n"
          ]
        }
      ]
    },
    {
      "metadata": {
        "id": "egclfxjUSwdZ"
      },
      "cell_type": "markdown",
      "source": [
        "## Paso 4: resolver el ejercicio utilizando CVXPY"
      ]
    },
    {
      "metadata": {
        "id": "KTLpBE0hqSu1",
        "colab": {
          "base_uri": "https://localhost:8080/"
        },
        "outputId": "c1734913-385c-4c88-fdea-af90f255cf31"
      },
      "cell_type": "code",
      "source": [
        "# Crear las variables a optimizar. Cada posición corresponde a un colegio\n",
        "colegios = cvx.Variable((541), boolean =True)\n",
        "\n",
        "# Definir el arreglo de coeficientes de costos (alumnos) e ingresar sus valores\n",
        "alumnos = cvx.Parameter((541))\n",
        "\n",
        "# Asignar al arreglo c los estudiantes de cada colegio\n",
        "alumnos = estudiantes\n",
        "\n",
        "# Definir la función objetivo utilizando sum y multiply\n",
        "obj_saber = cvx.Maximize(cvx.sum(cvx.multiply(alumnos, colegios)))\n",
        "\n",
        "# Establecer las restricciones\n",
        "restricciones_saber = [\n",
        "    # Restricciones de recursos disponibles\n",
        "    cvx.sum(cvx.multiply(100, colegios)) <= 2000,\n",
        "\n",
        "    # Máximo Cali\n",
        "    cvx.sum(cvx.multiply(cal, colegios)) <= 8,\n",
        "\n",
        "    # Mínimo Cali\n",
        "    cvx.sum(cvx.multiply(cal, colegios)) >= 3,\n",
        "\n",
        "    # Máximo Bogotá\n",
        "    cvx.sum(cvx.multiply(bog, colegios)) <= 8,\n",
        "\n",
        "    # Mínimo Bogotá\n",
        "    cvx.sum(cvx.multiply(bog, colegios)) >= 3,\n",
        "\n",
        "    # Máximo Bucaramanga\n",
        "    cvx.sum(cvx.multiply(buc, colegios)) <= 8,\n",
        "\n",
        "    # Mínimo Bucaramanga\n",
        "    cvx.sum(cvx.multiply(buc, colegios)) >= 3,\n",
        "\n",
        "    # Máximo Medellín\n",
        "    cvx.sum(cvx.multiply(med, colegios)) <= 8,\n",
        "\n",
        "    # Mínimo Medellín\n",
        "    cvx.sum(cvx.multiply(med, colegios)) >= 3,\n",
        "]\n",
        "\n",
        "# Configurar el problema\n",
        "prob_saber = cvx.Problem(obj_saber, restricciones_saber)\n",
        "\n",
        "# Resolver el ejercicio\n",
        "prob_saber.solve()\n",
        "\n",
        "# Mostrar el estado de la solución y el valor óptimo de la función objetivo\n",
        "print(\"Estado de la solución:\", prob_saber.status,\"\\n\")"
      ],
      "execution_count": 23,
      "outputs": [
        {
          "output_type": "stream",
          "name": "stdout",
          "text": [
            "Estado de la solución: optimal \n",
            "\n"
          ]
        }
      ]
    },
    {
      "metadata": {
        "id": "gDcwb2ibfrli"
      },
      "cell_type": "markdown",
      "source": [
        "## Paso 5: Imprimir las respuestas"
      ]
    },
    {
      "metadata": {
        "id": "-k1gaxOp8zTX",
        "colab": {
          "base_uri": "https://localhost:8080/"
        },
        "outputId": "75e88e8f-65d0-430a-d5f6-f5b1315d8e83"
      },
      "cell_type": "code",
      "source": [
        "# Crear listas para facilitar la impresión de las respuestas\n",
        "ciudades = [\"Cali\", \"Bogotá\", \"Bucaramanga\", \"Medellín\"]\n",
        "inst = [cal, bog, buc, med]\n",
        "\n",
        "# Copiar los valores óptimos de las variables de decisión en un arreglo de NumPy\n",
        "defcolegios = np.round(colegios.value)\n",
        "\n",
        "\n",
        "# Obtener el valor óptimo\n",
        "print(\"La cantidad de estudiantes beneficiados será:\", \"%.0f\"% prob_saber.value)\n",
        "print(\"La cantidad de instituciones beneficiadas será:\", \"%.0f\"% sum(defcolegios), \"\\n\")\n",
        "\n",
        "# Imprimir las instituciones beneficiadas por ciudad\n",
        "for i in range(4):\n",
        "    print(\"La cantidad de estudiantes beneficiados en\", ciudades[i],\n",
        "          \"será:\", \"%.0f\"% sum(alumnos*inst[i]*defcolegios), \"\\n\")\n",
        "    print(\"la cantidad de instituciones beneficiadas en\", ciudades[i],\n",
        "          \"será:\", \"%.0f\"% sum(inst[i]*defcolegios), \"\\n\")\n",
        "\n",
        "# Modificar el índice del objeto de pandas 'datosSaber11_v4' para que coincida\n",
        "# con el índice del objeto de NumPy 'defcolegios'\n",
        "datosSaber11_v4.index = range(len(alumnos))\n",
        "\n",
        "# Imprimir los colegios, su ubicación y el número de estudiantes\n",
        "# beneficiado por institución\n",
        "for i in range (len(alumnos)):\n",
        "    if defcolegios[i]==1:\n",
        "        print (datosSaber11_v4.at[i, 'NOMBREINSTITUCION'], \"de \",\n",
        "               datosSaber11_v4.at[i, 'NOMBREMUNICIPIO'], \"con\",\n",
        "               int(datosSaber11_v4.at[i, 'EVALUADOS']) ,\"estudiantes\")"
      ],
      "execution_count": 24,
      "outputs": [
        {
          "output_type": "stream",
          "name": "stdout",
          "text": [
            "La cantidad de estudiantes beneficiados será: 6403\n",
            "La cantidad de instituciones beneficiadas será: 20 \n",
            "\n",
            "La cantidad de estudiantes beneficiados en Cali será: 1074 \n",
            "\n",
            "la cantidad de instituciones beneficiadas en Cali será: 4 \n",
            "\n",
            "La cantidad de estudiantes beneficiados en Bogotá será: 2068 \n",
            "\n",
            "la cantidad de instituciones beneficiadas en Bogotá será: 8 \n",
            "\n",
            "La cantidad de estudiantes beneficiados en Bucaramanga será: 819 \n",
            "\n",
            "la cantidad de instituciones beneficiadas en Bucaramanga será: 3 \n",
            "\n",
            "La cantidad de estudiantes beneficiados en Medellín será: 2442 \n",
            "\n",
            "la cantidad de instituciones beneficiadas en Medellín será: 5 \n",
            "\n",
            "INST EDUC CEFA de  MEDELLIN con 968 estudiantes\n",
            "INST EDUC INEM JOSE FELIX DE RESTREPO de  MEDELLIN con 778 estudiantes\n",
            "INST EDUC LOLA GONZALEZ de  MEDELLIN con 224 estudiantes\n",
            "INST EDUC CONCEJO DE MEDELLIN de  MEDELLIN con 276 estudiantes\n",
            "SEDE A - I E TEC INEM CUSTODIO GARCA ROVIRA de  BUCARAMANGA con 220 estudiantes\n",
            "IE TEC POLITECNICO de  BUCARAMANGA con 220 estudiantes\n",
            "IE TEC DAMASO ZAPATA de  BUCARAMANGA con 379 estudiantes\n",
            "INSTITUCION EDUCATIVA SANTA LIBRADA de  CALI con 198 estudiantes\n",
            "INSTITUCION EDUCATIVA JORGE ISAACS de  CALI con 438 estudiantes\n",
            "INSTITUCION EDUCATIVA LICEO DEPARTAMENTAL - SEDE PRINCIPAL de  CALI con 198 estudiantes\n",
            "INSTITUCION EDUCATIVA NORMAL SUPERIOR SANTIAGO DE CALI de  CALI con 240 estudiantes\n",
            "INEM FRANCISCO DE PAULA SANTANDER de  BOGOT D.C. con 381 estudiantes\n",
            "LICEO FEM DE CUNDINAMARCA MERCEDES NARIO de  BOGOT D.C. con 230 estudiantes\n",
            "INEM SANTIAGO PEREZ de  BOGOT D.C. con 313 estudiantes\n",
            "COL DIST FERNANDO MAZUERA VILLEGAS de  BOGOT D.C. con 204 estudiantes\n",
            "CENT EDUC DIST PABLO NERUDA de  BOGOT��� D.C. con 201 estudiantes\n",
            "CENT EDUC DIST NUEVA COLOMBIA de  BOGOT��� D.C. con 219 estudiantes\n",
            "COLEGIO ALDEMAR ROJAS PLAZAS (IED) de  BOGOT��� D.C. con 302 estudiantes\n",
            "COL CUIDADELA EDUCATIVA BOSA (INS EDUC DIST) de  BOGOT��� D.C. con 218 estudiantes\n",
            "INST EDUC PBRO ANTONIO JOSE BERNAL LONDO���O SJ de  MEDELLIN con 196 estudiantes\n"
          ]
        }
      ]
    },
    {
      "cell_type": "markdown",
      "source": [
        "# Ejercicios"
      ],
      "metadata": {
        "id": "OAMu564F0KkP"
      }
    },
    {
      "cell_type": "markdown",
      "source": [
        "## Costa caribe\n",
        "\n",
        "Resuelva el mismo ejercicio planteado en el taller considerando como población objetivo los estudiantes de Guajira, Magdalena, Cesar, Atlántico, Bolívar, Sucre y Córdoba. Suponga una inversión de tres mil millones."
      ],
      "metadata": {
        "id": "MDhRxUZI0NVu"
      }
    },
    {
      "cell_type": "code",
      "source": [
        "# Resuelva aquí el ejercicio anterior\n"
      ],
      "metadata": {
        "id": "rC9OvFxA0Uwc"
      },
      "execution_count": null,
      "outputs": []
    },
    {
      "cell_type": "markdown",
      "source": [
        "## Estímulo a los mejores\n",
        "\n",
        "Resuelva el mismo ejercicio planteado en el taller considerando como población objetivo los colegios públicos con jornada de la mañana, de las ciudades de Cali, Bogotá, Bucaramanga y Medellín cuyo resultado en la prueba de Lectura Crítica es superior al promedio nacional."
      ],
      "metadata": {
        "id": "5HYFBhfJ0VdI"
      }
    },
    {
      "cell_type": "code",
      "source": [
        "# Resuelva aquí el ejercicio anterior\n"
      ],
      "metadata": {
        "id": "azY-nqH40dtX"
      },
      "execution_count": null,
      "outputs": []
    }
  ]
}